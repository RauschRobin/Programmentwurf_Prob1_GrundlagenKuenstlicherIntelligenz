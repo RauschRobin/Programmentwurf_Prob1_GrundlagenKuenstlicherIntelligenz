{
 "cells": [
  {
   "cell_type": "code",
   "execution_count": null,
   "metadata": {},
   "outputs": [],
   "source": [
    "! pip install pandas;\n",
    "! pip install pgmpy;"
   ]
  },
  {
   "cell_type": "code",
   "execution_count": null,
   "metadata": {},
   "outputs": [],
   "source": [
    "import pandas as pd;\n",
    "from pgmpy.models import BayesianNetwork\n",
    "\n",
    "Quali = \"Qualifikation\"\n",
    "S = \"Schnitt\"\n",
    "BL = \"Bundesland\"\n",
    "M = \"Mathe\"\n",
    "P = \"Physik\"\n",
    "D = \"Deutsch\"\n",
    "ST = \"Schultyp\"\n",
    "OLTM = \"OLT-Mathe\"\n",
    "OLTD = \"OLT-Deutsch\"\n",
    "SFT = \"Studierfähigkeitstest\"\n",
    "A = \"Alter\"\n",
    "Geschl = \"Geschlecht\"\n",
    "JEDE = \"Jahreseinkommen der Eltern\"\n",
    "SB = \"Staatsbürgerschaft\"\n",
    "SG = \"Studiengang\"\n",
    "Absch= \"Abschluss\"\n",
    "\n",
    "df = pd.read_csv('p001_1.csv', sep=';',dtype={\n",
    "    Quali: 'string',\n",
    "    S: 'string',\n",
    "    BL: 'string',\n",
    "    M: 'string',\n",
    "    D: 'string',\n",
    "    P: 'string',\n",
    "    ST: \"string\",\n",
    "    OLTM: \"string\",\n",
    "    OLTD: \"string\",\n",
    "    SFT: \"string\",\n",
    "    A: \"string\",\n",
    "    Geschl: \"string\",\n",
    "    JEDE: \"string\",\n",
    "    SB: \"string\",\n",
    "    SG: \"string\",\n",
    "    Absch: \"string\"\n",
    "})\n",
    "df = df.replace({'n.a.': \"-1\"})\n",
    "df = df.replace({ \"keine\": \"-1\"})\n",
    "df[S] = df[S].str.replace(\",\",\".\").astype('float') \n",
    "df[M] = df[M].str.replace(\",\",\".\").astype('float') \n",
    "df[D] = df[D].str.replace(\",\",\".\").astype('float') \n",
    "df[P] = df[P].str.replace(\",\",\".\").astype('float') \n",
    "\n",
    "df[OLTM] = df[OLTM].astype('int') \n",
    "df[OLTD] = df[OLTD].astype('int') \n",
    "df[SFT] = df[SFT].astype('int') \n",
    "df[A] = df[A].astype('int') \n",
    "df[JEDE] = df[JEDE].astype('int') \n",
    "df = df.replace({\"-1\": None})\n",
    "df = df.replace({-1: None})\n",
    "df = df.replace({-1.0: None})\n",
    "display(df)\n",
    "G = BayesianNetwork()\n",
    "G.add_nodes_from(df.columns)\n",
    "\n",
    "G.add_edges_from([(ST, SG),(Quali, S),(S, M),(S,D),(S,P),(P, OLTM),(M, OLTM),(D, OLTD),(OLTM, Absch),(OLTD, Absch),(BL, JEDE),(JEDE, SFT),(JEDE, SG),(SG,Absch),(A, SFT),(Geschl, SFT),(SB, SFT)])\n",
    "G.fit(df)\n",
    "\n",
    "values = pd.DataFrame()\n",
    "predict_data = values\n",
    "test = G.simulate(n_samples=1, do={BL:\"Baden-Württemberg\",\n",
    "                        ST:\"Allgemeinbildendes Gymnasium\"})\n",
    "display(test)"
   ]
  }
 ],
 "metadata": {
  "kernelspec": {
   "display_name": "Python 3 (ipykernel)",
   "language": "python",
   "name": "python3"
  },
  "language_info": {
   "codemirror_mode": {
    "name": "ipython",
    "version": 3
   },
   "file_extension": ".py",
   "mimetype": "text/x-python",
   "name": "python",
   "nbconvert_exporter": "python",
   "pygments_lexer": "ipython3",
   "version": "3.10.12"
  }
 },
 "nbformat": 4,
 "nbformat_minor": 2
}
